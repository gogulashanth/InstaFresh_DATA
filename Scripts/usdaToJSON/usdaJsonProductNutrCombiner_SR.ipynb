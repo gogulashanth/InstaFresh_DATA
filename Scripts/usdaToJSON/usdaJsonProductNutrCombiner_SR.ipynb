{
 "cells": [
  {
   "cell_type": "code",
   "execution_count": 2,
   "metadata": {},
   "outputs": [],
   "source": [
    "import json\n",
    "import copy\n",
    "import pdb"
   ]
  },
  {
   "cell_type": "code",
   "execution_count": 3,
   "metadata": {},
   "outputs": [],
   "source": [
    "# Paths\n",
    "nut_data_in = '/Users/Shanth/Documents/instaFresh_DATA/JSON_data/nut_data_sr.json'\n",
    "product_data_in = '/Users/Shanth/Documents/instaFresh_DATA/JSON_data/product_data_sr_simplified.json'\n",
    "product_data_out = '/Users/Shanth/Documents/instaFresh_DATA/JSON_data/com_product_data_sr_simplified.json'\n",
    "\n",
    "# Load data\n",
    "nut_data = json.load(open(nut_data_in))\n",
    "product_data = json.load(open(product_data_in))\n",
    "com_product_data = copy.deepcopy(product_data)"
   ]
  },
  {
   "cell_type": "code",
   "execution_count": 5,
   "metadata": {},
   "outputs": [],
   "source": [
    "# Merge data\n",
    "for nut_id in nut_data:\n",
    "    nut = nut_data[nut_id]\n",
    "    ndb = nut['dockey']\n",
    "    if(ndb in product_data):\n",
    "        if(not 'nutrition' in com_product_data[ndb]):\n",
    "            com_product_data[ndb]['nutrition'] = {}\n",
    "        com_product_data[ndb]['nutrition'][nut['nutrition_code']] =  nut['nutrition_value']\n",
    "        com_product_data[ndb]['upc'] = ''\n",
    "        if(not 'serving_size' in com_product_data[ndb]['nutrition']):\n",
    "            com_product_data[ndb]['nutrition']['serving_size'] = com_product_data[ndb]['serving_size']\n",
    "            com_product_data[ndb]['nutrition']['serving_size_UOM'] = com_product_data[ndb]['serving_size_UOM']\n",
    "            del com_product_data[ndb]['serving_size']\n",
    "            del com_product_data[ndb]['serving_size_UOM']\n"
   ]
  },
  {
   "cell_type": "code",
   "execution_count": 7,
   "metadata": {},
   "outputs": [],
   "source": [
    "\n",
    "# Dump data\n",
    "json.dump(com_product_data, open(product_data_out, \"w+\"))"
   ]
  }
 ],
 "metadata": {
  "kernelspec": {
   "display_name": "Python 2",
   "language": "python",
   "name": "python2"
  },
  "language_info": {
   "codemirror_mode": {
    "name": "ipython",
    "version": 2
   },
   "file_extension": ".py",
   "mimetype": "text/x-python",
   "name": "python",
   "nbconvert_exporter": "python",
   "pygments_lexer": "ipython2",
   "version": "2.7.15"
  }
 },
 "nbformat": 4,
 "nbformat_minor": 2
}
