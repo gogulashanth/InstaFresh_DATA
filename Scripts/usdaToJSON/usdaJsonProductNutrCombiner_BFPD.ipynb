{
 "cells": [
  {
   "cell_type": "code",
   "execution_count": 12,
   "metadata": {},
   "outputs": [],
   "source": [
    "import json\n",
    "import copy\n",
    "import pdb"
   ]
  },
  {
   "cell_type": "markdown",
   "metadata": {},
   "source": [
    "### JSON Combiner BFPD\n",
    "\n",
    "This script helps combine nutrients data as well as product data into a single json. It works by finding the dockey id from nutrients data and matching it with the dockey from the product data. It adds it to the product and exports the combined json file."
   ]
  },
  {
   "cell_type": "markdown",
   "metadata": {},
   "source": [
    "### Configure paths"
   ]
  },
  {
   "cell_type": "code",
   "execution_count": 13,
   "metadata": {},
   "outputs": [],
   "source": [
    "# Input paths\n",
    "nut_data_in = '/Users/Shanth/Documents/instaFresh_DATA/JSON_data/nut_data.json'\n",
    "product_data_in = '/Users/Shanth/Documents/instaFresh_DATA/JSON_data/product_data.json'\n",
    "\n",
    "# Output paths\n",
    "product_data_out = '/Users/Shanth/Documents/instaFresh_DATA/JSON_data/com_product_data.json'\n",
    "\n",
    "# Load data\n",
    "nut_data = json.load(open(nut_data_in))\n",
    "product_data = json.load(open(product_data_in))\n",
    "com_product_data = copy.deepcopy(product_data)"
   ]
  },
  {
   "cell_type": "code",
   "execution_count": 14,
   "metadata": {},
   "outputs": [],
   "source": [
    "# Merge data\n",
    "for nut_id in nut_data:\n",
    "    nut = nut_data[nut_id]\n",
    "    ndb = nut['dockey']\n",
    "    nut_dict = {'code': nut['nutrition_code'], 'value': nut['nutrition_value']}\n",
    "    com_product_data[ndb]['nutrition'] = nut_dict"
   ]
  },
  {
   "cell_type": "code",
   "execution_count": 15,
   "metadata": {},
   "outputs": [],
   "source": [
    "# Dump data\n",
    "json.dump(com_product_data, open(product_data_out, \"w+\"))"
   ]
  }
 ],
 "metadata": {
  "kernelspec": {
   "display_name": "Python 2",
   "language": "python",
   "name": "python2"
  },
  "language_info": {
   "codemirror_mode": {
    "name": "ipython",
    "version": 2
   },
   "file_extension": ".py",
   "mimetype": "text/x-python",
   "name": "python",
   "nbconvert_exporter": "python",
   "pygments_lexer": "ipython2",
   "version": "2.7.15"
  }
 },
 "nbformat": 4,
 "nbformat_minor": 2
}
